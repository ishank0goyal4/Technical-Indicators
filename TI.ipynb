{
 "cells": [
  {
   "cell_type": "markdown",
   "metadata": {},
   "source": [
    "# Technical Indicators"
   ]
  },
  {
   "cell_type": "code",
   "execution_count": null,
   "metadata": {},
   "outputs": [],
   "source": [
    "import pandas as pd\n",
    "import yfinance as yf\n",
    "import numpy as np"
   ]
  },
  {
   "cell_type": "markdown",
   "metadata": {},
   "source": [
    "### Exponential Moving Average(EMA)\n",
    "#### DF=Open, High, Low, Adj Close, Volume pandas dataframe,  period = window for exponential moving average"
   ]
  },
  {
   "cell_type": "code",
   "execution_count": null,
   "metadata": {},
   "outputs": [],
   "source": [
    "def EMA(DF, period, min_period=1):\n",
    "    fdf = pd.DataFrame()\n",
    "    fdf[\"EMA\"]= DF[\"Adj Close\"].ewm(span=period, min_periods=min_period).mean()\n",
    "    fdf.dropna(axis=0, inplace=True)\n",
    "    return fdf"
   ]
  },
  {
   "cell_type": "markdown",
   "metadata": {},
   "source": [
    "### Moving Average Convergence Divergence(MACD)  \n",
    "####  DF=Open, High, Low, Adj Close, Volume pandas dataframe,  sp=slow moving average window, fp= Fast moving average window,  p= Signal window, this function returns a dataframe with MACD and Signal line "
   ]
  },
  {
   "cell_type": "code",
   "execution_count": 2,
   "metadata": {},
   "outputs": [],
   "source": [
    "def MACD(DF, sp, fp, p):\n",
    "    df = DF.copy()\n",
    "    df[\"slow_MA\"]= df[\"Adj Close\"].ewm(span=sp, min_periods=sp).mean()\n",
    "    df[\"fast_MA\"]= df[\"Adj Close\"].ewm(span=fp, min_periods=fp).mean()\n",
    "    fdf = pd.DataFrame()\n",
    "    fdf['MACD']= df[\"fast_MA\"]-df[\"slow_MA\"]\n",
    "    fdf['signal']= fdf['MACD'].ewm(span=p, min_periods=p).mean()\n",
    "    fdf.dropna(axis=0, inplace=True)\n",
    "    return fdf"
   ]
  },
  {
   "cell_type": "markdown",
   "metadata": {},
   "source": [
    "### Average True Range(ATR)\n",
    "####  DF=Open, High, Low, Adj Close, Volume pandas dataframe, n=window for ATR"
   ]
  },
  {
   "cell_type": "code",
   "execution_count": null,
   "metadata": {},
   "outputs": [],
   "source": [
    "def ATR(DF, n):\n",
    "    df = DF.copy()\n",
    "    df['H-L']=abs(df['High']-df['Low'])\n",
    "    df['H-PC']=abs(df['High']-df['Adj Close'].shift(1))\n",
    "    df['L-PC']=abs(df['Low']-df['Adj Close'].shift(1))\n",
    "    df['TR']= df[['H-L', 'H-PC', 'L-PC']].max(axis=1, skipna=False)\n",
    "    fdf= fdf = pd.DataFrame()\n",
    "    fdf['Adj Close']=df['Adj Close']\n",
    "    fdf['ATR']=df['TR'].rolling(n).mean()\n",
    "    return fdf"
   ]
  },
  {
   "cell_type": "markdown",
   "metadata": {},
   "source": [
    "### Bollinger's band\n",
    "#### DF=Open, High, Low, Adj Close, Volume pandas dataframe , n=window for BB"
   ]
  },
  {
   "cell_type": "code",
   "execution_count": null,
   "metadata": {},
   "outputs": [],
   "source": [
    "def BollBand(DF, n):\n",
    "    df = DF.copy()\n",
    "    fdf= pd.DataFrame()\n",
    "    fdf['Adj Close']=df['Adj Close']\n",
    "    fdf['MA']=df['Adj Close'].rolling(n).mean()\n",
    "    fdf['BB_up']= fdf['MA'] +2*(fdf['MA'].rolling(n).std())\n",
    "    fdf['BB_dn']= fdf['MA'] -2*(fdf['MA'].rolling(n).std())\n",
    "    fdf['BB_wid']= fdf['BB_up']- fdf['BB_dn']\n",
    "    fdf.dropna(inplace=True)\n",
    "    return fdf"
   ]
  },
  {
   "cell_type": "markdown",
   "metadata": {},
   "source": [
    "### Relative Strength Index(RSI) \n",
    "####  DF=Open, High, Low, Adj Close, Volume pandas dataframe, n=window for RSI"
   ]
  },
  {
   "cell_type": "code",
   "execution_count": null,
   "metadata": {},
   "outputs": [],
   "source": [
    "def RSI(DF, n):\n",
    "    df= DF.copy()\n",
    "    df['delta']=df['Adj Close']- df['Adj Close'].shift(1)\n",
    "    df['gain']= np.where(df['delta']>=0, df['delta'],0)\n",
    "    df['loss']= np.where(df['delta']<0, abs(df['delta']),0)\n",
    "    avg_gain =[]\n",
    "    avg_loss =[]\n",
    "    for i in range(len(df)):\n",
    "        if i<n:\n",
    "            avg_gain.append(np.NaN)\n",
    "            avg_loss.append(np.NaN)\n",
    "        elif i==n:\n",
    "            avg_gain.append(df['gain'].rolling(n).mean()[n])\n",
    "            avg_loss.append(df['loss'].rolling(n).mean()[n])\n",
    "        elif i>n:\n",
    "            avg_gain.append(((n-1)*avg_gain[i-1]+df['gain'][i])/n)\n",
    "            avg_loss.append(((n-1)*avg_loss[i-1]+df['loss'][i])/n)\n",
    "    df['avg_gain']=np.array(avg_gain)\n",
    "    df['avg_loss']=np.array(avg_loss)\n",
    "    df['RS']=  df['avg_gain']/df['avg_loss']\n",
    "    fdf=pd.DataFrame()\n",
    "    fdf['RSI']= 100-(100/(1+df['RS']))\n",
    "    return fdf "
   ]
  },
  {
   "cell_type": "markdown",
   "metadata": {},
   "source": [
    "### Average Directional Movement Index(ADX)\n",
    "####  DF=Open, High, Low, Adj Close, Volume pandas dataframe, n=window for ADX"
   ]
  },
  {
   "cell_type": "code",
   "execution_count": null,
   "metadata": {},
   "outputs": [],
   "source": [
    "def ADX(DF, n):\n",
    "    df = DF.copy()\n",
    "    \n",
    "    #True Range(TR) = max(H-L, H-PC, L-PC) \n",
    "    df['H-L']=abs(df['High']-df['Low'])\n",
    "    df['H-PC']=abs(df['High']-df['Adj Close'].shift(1))\n",
    "    df['L-PC']=abs(df['Low']-df['Adj Close'].shift(1))\n",
    "    df['TR']= df[['H-L', 'H-PC', 'L-PC']].max(axis=1, skipna=False)\n",
    "    \n",
    "    #If H-PH > PL-L then DMplus = H-PH else Zero\n",
    "    #If PL-L > H-PH then DMminus = PL-L else Zero\n",
    "    df['DMplus']= np.where((df['High']-df['High'].shift(1))>(df['Low'].shift(1)-df['Low']), (df['High']-df['High'].shift(1)), 0)\n",
    "    df['DMplus']= np.where(df['DMplus']<0, 0, df['DMplus'])\n",
    "    df['DMminus']= np.where((df['Low'].shift(1)-df['Low'])>(df['High']-df['High'].shift(1)), (df['Low'].shift(1)-df['Low']), 0)\n",
    "    df['DMminus']= np.where(df['DMminus']<0, 0, df['DMminus'])\n",
    "    \n",
    "    #TR_avg = Smoothavg(TR), Similarly DMplus_avg and DMminus_avg\n",
    "    TR_avg = []\n",
    "    DMplus_avg = []\n",
    "    DMminus_avg = []\n",
    "    ADXf = []\n",
    "    for i in range(len(df)):\n",
    "        if i<n:\n",
    "            TR_avg.append(np.NaN)\n",
    "            DMplus_avg.append(np.NaN)\n",
    "            DMminus_avg.append(np.NaN)\n",
    "        elif i==n:\n",
    "            TR_avg.append( df['TR'].rolling(n).sum()[n])\n",
    "            DMplus_avg.append( df['DMplus'].rolling(n).sum()[n])\n",
    "            DMminus_avg.append( df['DMminus'].rolling(n).sum()[n])\n",
    "        elif i>n:\n",
    "            TR_avg.append(TR_avg[i-1]-(TR_avg[i-1]/n)+df['TR'][i])\n",
    "            DMplus_avg.append(DMplus_avg[i-1]-(DMplus_avg[i-1]/n)+df['DMplus'][i])\n",
    "            DMminus_avg.append(DMminus_avg[i-1]-(DMminus_avg[i-1]/n)+df['DMminus'][i])\n",
    "    df['TR_avg']=np.array(TR_avg)\n",
    "    df['DMplus_avg']=np.array(DMplus_avg)\n",
    "    df['DMminus_avg']=np.array(DMminus_avg)\n",
    "    \n",
    "    #DIplus = 100*(DMplus_avg/TR_avg)\n",
    "    #DIminus = 100*(DMminus_avg/TR_avg)\n",
    "    df['DIplus'] = 100*(df['DMplus_avg']/df['TR_avg'])\n",
    "    df['DIminus'] = 100*(df['DMminus_avg']/df['TR_avg'])\n",
    "    df['DIsum']=df['DIplus']+df['DIminus']\n",
    "    df['DIdiff'] = abs(df['DIplus']-df['DIminus'])\n",
    "    df['DX'] = 100*(df['DIdiff']/df['DIsum'])\n",
    "    \n",
    "    #ADX = ((n-1)*Previous ADX + Curr DX)/n\n",
    "    \n",
    "    for i in range(len(df)):\n",
    "        if i<2*(n-1):\n",
    "            ADXf.append(np.NaN)\n",
    "        elif i==2*(n-1):\n",
    "            ADXf.append(df['DX'][i-n+1:i+1].mean())\n",
    "        elif i>2*(n-1):\n",
    "            ADXf.append(((n-1)*ADXf[i-1] + df['DX'][i])/n)\n",
    "    df['ADX']=np.array(ADXf)\n",
    "    return df['ADX']"
   ]
  },
  {
   "cell_type": "markdown",
   "metadata": {},
   "source": [
    "### On Balance Volume(OBV)\n",
    "####  DF=Open, High, Low, Close, Volume pandas dataframe"
   ]
  },
  {
   "cell_type": "code",
   "execution_count": null,
   "metadata": {},
   "outputs": [],
   "source": [
    "def OBV(DF):\n",
    "    df = DF.copy()\n",
    "    df['direction']= np.where(df['Close']>=df['Close'].shift(1), 1, -1)\n",
    "    df['direction'][0] = 0\n",
    "    df['V_direc']= df['direction']*df['Volume']\n",
    "    df['obv'] = df['V_direc'].cumsum()\n",
    "    return df['obv']"
   ]
  }
 ],
 "metadata": {
  "kernelspec": {
   "display_name": "Python 3",
   "language": "python",
   "name": "python3"
  },
  "language_info": {
   "codemirror_mode": {
    "name": "ipython",
    "version": 3
   },
   "file_extension": ".py",
   "mimetype": "text/x-python",
   "name": "python",
   "nbconvert_exporter": "python",
   "pygments_lexer": "ipython3",
   "version": "3.8.8"
  }
 },
 "nbformat": 4,
 "nbformat_minor": 4
}
